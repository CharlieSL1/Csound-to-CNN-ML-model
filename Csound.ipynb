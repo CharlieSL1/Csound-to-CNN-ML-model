{
 "cells": [
  {
   "cell_type": "code",
   "execution_count": 18,
   "id": "45ecaa36",
   "metadata": {},
   "outputs": [],
   "source": [
    "import ctcsound # type:ignore\n",
    "import os\n"
   ]
  },
  {
   "cell_type": "code",
   "execution_count": 19,
   "id": "acc2894e",
   "metadata": {},
   "outputs": [
    {
     "name": "stderr",
     "output_type": "stream",
     "text": [
      "end of score.\t\t   overall amps:\u001b[m      0.0\n",
      "\t   overall samples out of range:\u001b[m        0\u001b[m\n",
      "0 errors in performance\n",
      "\u001b[mElapsed time at end of performance: real: 7.042s, CPU: 0.021s\n",
      "\u001b[m"
     ]
    }
   ],
   "source": [
    "cs = ctcsound.Csound()\n",
    "# def store_audio(FileNo):\n",
    "    # output_file = f\"Data_{FileNo}.wav\"\n",
    "    # cs.setOption(f\"-o {output_file}\")\n",
    "    # print(f\"Data_{FileNo}.wav had been stored\")\n",
    "\n",
    "class Csound_instrument:\n",
    "    def __init__(self,sr = 48000,ksmps = 32,nchnls = 2,dbfs = 1):\n",
    "        self.cs = ctcsound.Csound()\n",
    "        self.sr = sr\n",
    "        self.ksmps = ksmps\n",
    "        self.nchnls = nchnls\n",
    "        self.dbfs = dbfs\n",
    "        \n",
    "    def add_instrument(self, instr_number, instrument_code, save_file=None):\n",
    "        self.cs = ctcsound.Csound()\n",
    "        if save_file:\n",
    "            self.cs.setOption(f\"-o {save_file}\")\n",
    "        full_orc = f'''\n",
    "        sr = {self.sr}\n",
    "        ksmps = {self.ksmps}\n",
    "        nchnls = {self.nchnls}\n",
    "        0dbfs = {self.dbfs}\n",
    "        \n",
    "        {instrument_code}\n",
    "        '''\n",
    "        self.cs.compileOrc(full_orc)\n",
    "        \n",
    "    def csound_instrument_score(self,instr_number,frequency,duration=1,start_time = 0, save_file=None):\n",
    "        self.add_instrument(instr_number, f'''\n",
    "        instr {instr_number}\n",
    "            ifreq = p4\n",
    "            aout oscili 0.5, ifreq\n",
    "            outs aout, aout\n",
    "        endin\n",
    "        ''', save_file)\n",
    "        \n",
    "        sco = f'i{instr_number} {start_time} {duration} {frequency}'\n",
    "        self.cs.readScore(sco)\n",
    "        self.cs.start()\n",
    "        while self.cs.performKsmps() == 0:\n",
    "            pass\n",
    "        self.cs.stop()\n",
    "        self.cs.cleanup()\n",
    "        \n",
    "        \n",
    "# Testing\n",
    "# instrument = Csound_instrument()\n",
    "# instrument.csound_instrument_score(1, 880, 1, save_file=\"Data_0.wav\")"
   ]
  }
 ],
 "metadata": {
  "kernelspec": {
   "display_name": "Python 3",
   "language": "python",
   "name": "python3"
  },
  "language_info": {
   "codemirror_mode": {
    "name": "ipython",
    "version": 3
   },
   "file_extension": ".py",
   "mimetype": "text/x-python",
   "name": "python",
   "nbconvert_exporter": "python",
   "pygments_lexer": "ipython3",
   "version": "3.11.11"
  }
 },
 "nbformat": 4,
 "nbformat_minor": 5
}
