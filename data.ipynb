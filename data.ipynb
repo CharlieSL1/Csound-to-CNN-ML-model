{
 "cells": [
  {
   "cell_type": "code",
   "execution_count": null,
   "id": "e4efdbe8",
   "metadata": {},
   "outputs": [],
   "source": [
    "'''\n",
    "If you change the csound_module.py, run this cell to reload\n",
    "reload_module()\n",
    "\n",
    "'''\n",
    "from sympy.external import importtools\n",
    "from csound_module import *\n",
    "import librosa # type: ignore\n",
    "import numpy as np\n",
    "import torch\n",
    "from torch.utils.data import Dataset, DataLoader"
   ]
  },
  {
   "cell_type": "code",
   "execution_count": null,
   "id": "40005717",
   "metadata": {},
   "outputs": [],
   "source": [
    "audio_folder = 'dataset'\n",
    "csound = Csound_instrument()\n",
    "X_train = []  \n",
    "y_train = []\n",
    "\n",
    "params_list = [\n",
    "    {'freq': 220, 'dur': 1.0, 'amp': 0.5},   # A3\n",
    "    {'freq': 440, 'dur': 1.0, 'amp': 0.5},   # A4\n",
    "    {'freq': 880, 'dur': 0.5, 'amp': 0.5},   # A5\n",
    "    {'freq': 330, 'dur': 1.5, 'amp': 0.5},   # E4\n",
    "    {'freq': 550, 'dur': 0.8, 'amp': 0.5},   # C#5\n",
    "]\n",
    "\n",
    "for i, params in enumerate(params_list):\n",
    "    filename = f\"dataset/train_{i}.wav\"\n",
    "    csound.csound_instrument_score(\n",
    "        instr_number=1,\n",
    "        frequency=params['freq'],\n",
    "        duration=params['dur'],\n",
    "        save_file=filename\n",
    "    )\n",
    "    \n",
    "    audio, sr = librosa.load(filename, sr=48000)\n",
    "    if audio.ndim == 1:\n",
    "        audio = audio[np.newaxis, :]\n",
    "    \n",
    "    max_len = 48000 * 2  # 2秒\n",
    "    if audio.shape[1] < max_len:\n",
    "        audio = np.pad(audio, ((0, 0), (0, max_len - audio.shape[1])))\n",
    "    else:\n",
    "        audio = audio[:, :max_len]\n",
    "    \n",
    "    X_train.append(audio)\n",
    "    y_train.append([params['freq'], params['dur'], params['amp']])\n",
    "\n",
    "X_train = torch.tensor(np.array(X_train), dtype=torch.float32)\n",
    "y_train = torch.tensor(np.array(y_train), dtype=torch.float32)"
   ]
  },
  {
   "cell_type": "code",
   "execution_count": null,
   "id": "97419204",
   "metadata": {},
   "outputs": [],
   "source": [
    "train_dataset = torch.utils.data.TensorDataset(X_train, y_train)\n",
    "train_loader = torch.utils.data.DataLoader(train_dataset)\n",
    "\n",
    "def get_data():\n",
    "    return train_loader\n"
   ]
  }
 ],
 "metadata": {
  "kernelspec": {
   "display_name": "Python 3",
   "language": "python",
   "name": "python3"
  },
  "language_info": {
   "codemirror_mode": {
    "name": "ipython",
    "version": 3
   },
   "file_extension": ".py",
   "mimetype": "text/x-python",
   "name": "python",
   "nbconvert_exporter": "python",
   "pygments_lexer": "ipython3",
   "version": "3.11.11"
  }
 },
 "nbformat": 4,
 "nbformat_minor": 5
}
