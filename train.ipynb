{
 "cells": [
  {
   "cell_type": "code",
   "execution_count": 6,
   "id": "22f1b805",
   "metadata": {},
   "outputs": [],
   "source": [
    "import data\n",
    "from torch import nn, optim\n",
    "import torch\n",
    "from tqdm import tqdm"
   ]
  },
  {
   "cell_type": "code",
   "execution_count": 7,
   "id": "cd541f47",
   "metadata": {},
   "outputs": [],
   "source": [
    "model = nn.Sequential(\n",
    "    nn.Conv1d(in_channels=1, out_channels=4, kernel_size=2), \n",
    "    nn.Conv1d(in_channels=4, out_channels=4, kernel_size=2),\n",
    "    nn.MaxPool1d(kernel_size=2),\n",
    "    nn.Flatten(),\n",
    "    nn.LazyLinear(out_features=5), nn.Sigmoid(),\n",
    "    nn.LazyLinear(out_features=3),\n",
    ")"
   ]
  },
  {
   "cell_type": "code",
   "execution_count": 8,
   "id": "551758b9",
   "metadata": {},
   "outputs": [
    {
     "name": "stderr",
     "output_type": "stream",
     "text": [
      "100%|██████████| 200/200 [00:15<00:00, 12.54it/s]\n"
     ]
    }
   ],
   "source": [
    "train_music_loader = data.get_data()\n",
    "loss_fn = nn.MSELoss()# compute the error \n",
    "optim_fn = optim.SGD(model.parameters(),lr=0.01) # Stochastic Gradient descent\n",
    "for epoch in tqdm(range(200)):\n",
    "    for xb,yb in train_music_loader: # \n",
    "        ypred = model(xb) # find the output of the model\n",
    "        loss = loss_fn(ypred, yb)  #Out is the ML think is the answer, yb the real answer \n",
    "        optim_fn.zero_grad() # get ready for the slope\n",
    "        loss.backward()# find where is it down the slope\n",
    "        optim_fn.step()# Take a step down\n",
    "        \n",
    "if epoch % 10 == 0:\n",
    "        print(f\"Epoch {epoch}, Loss: {loss.item():.4f}\")\n"
   ]
  },
  {
   "cell_type": "code",
   "execution_count": 9,
   "id": "04c06193",
   "metadata": {},
   "outputs": [
    {
     "name": "stdout",
     "output_type": "stream",
     "text": [
      "tensor([[0.2107, 0.4008, 0.6261]], grad_fn=<AddmmBackward0>)\n",
      "tensor([[0.4034, 0.4663, 0.5205]], grad_fn=<AddmmBackward0>)\n",
      "tensor([[0.5461, 0.3025, 0.3771]], grad_fn=<AddmmBackward0>)\n",
      "tensor([[0.4832, 0.7819, 0.5673]], grad_fn=<AddmmBackward0>)\n",
      "tensor([[0.4698, 0.3312, 0.4351]], grad_fn=<AddmmBackward0>)\n",
      "tensor([[0.2477, 0.0791, 0.4969]], grad_fn=<AddmmBackward0>)\n",
      "tensor([[0.3361, 0.5682, 0.5947]], grad_fn=<AddmmBackward0>)\n",
      "tensor([[0.2736, 0.0390, 0.4678]], grad_fn=<AddmmBackward0>)\n",
      "tensor([[0.4876, 0.7705, 0.5622]], grad_fn=<AddmmBackward0>)\n",
      "tensor([[0.4565, 0.3394, 0.4459]], grad_fn=<AddmmBackward0>)\n",
      "tensor([[0.5040, 0.5235, 0.4737]], grad_fn=<AddmmBackward0>)\n",
      "tensor([[0.5056, 0.3097, 0.4051]], grad_fn=<AddmmBackward0>)\n",
      "tensor([[0.5947, 0.8808, 0.5308]], grad_fn=<AddmmBackward0>)\n",
      "tensor([[0.4677, 0.2167, 0.3999]], grad_fn=<AddmmBackward0>)\n",
      "tensor([[0.5842, 0.4900, 0.4128]], grad_fn=<AddmmBackward0>)\n",
      "tensor([[0.4115, 0.7065, 0.5881]], grad_fn=<AddmmBackward0>)\n",
      "tensor([[0.2887, 0.0488, 0.4612]], grad_fn=<AddmmBackward0>)\n",
      "tensor([[0.5552, 0.7000, 0.4978]], grad_fn=<AddmmBackward0>)\n",
      "tensor([[0.5550, 0.3330, 0.3811]], grad_fn=<AddmmBackward0>)\n",
      "tensor([[0.5922, 0.4615, 0.3990]], grad_fn=<AddmmBackward0>)\n"
     ]
    }
   ],
   "source": [
    "train_music_loader = data.get_data()\n",
    "for xb,yb in train_music_loader: # \n",
    "        ypred = model(xb) # find the output of the model\n",
    "        print(ypred)"
   ]
  },
  {
   "cell_type": "code",
   "execution_count": null,
   "id": "5562beba",
   "metadata": {},
   "outputs": [
    {
     "name": "stderr",
     "output_type": "stream",
     "text": [
      "rtaudio: PortAudio module enabled ...\n",
      "\u001b[musing callback interface\n",
      "\u001b[mrtmidi: PortMIDI module enabled\n",
      "\u001b[m--Csound version 6.18 (double samples) Nov 24 2022\n",
      "[commit: a1580f9cdf331c35dceb486f4231871ce0b00266]\n",
      "\u001b[mlibsndfile-1.1.0\n",
      "\u001b[mgraphics suppressed, ascii substituted\n",
      "sr = 48000.0,\u001b[m kr = 1500.000,\u001b[m ksmps = 32\n",
      "\u001b[m0dBFS level = 1.0,\u001b[m A4 tuning = 440.0\n",
      "\u001b[morch now loaded\n",
      "\u001b[maudio buffered in 1024 sample-frame blocks\n",
      "\u001b[mwriting 4096-byte blks of shorts to  _temp_1.wav (WAV)\n",
      "SECTION 1:\n",
      "\u001b[mnew alloc for instr 1:\n",
      "\u001b[mB  0.000 ..  1.067 T  1.067 TT  1.067 M:  0.50000  0.50000\n",
      "Score finished in csoundPerformKsmps() with 2.\n",
      "inactive allocs returned to freespace\n",
      "end of score.\t\t   overall amps:\u001b[m  0.50000  0.50000\n",
      "\t   overall samples out of range:\u001b[m        0\u001b[m        0\u001b[m\n",
      "0 errors in performance\n",
      "\u001b[mElapsed time at end of performance: real: 0.003s, CPU: 0.003s\n",
      "\u001b[m2048 4096 sample blks of shorts written to  _temp_1.wav (WAV)\n"
     ]
    },
    {
     "name": "stdout",
     "output_type": "stream",
     "text": [
      "Using training data to generate varied outputs...\n",
      "0: freq=233.8Hz, dur=1.07s (from training sample 0)\n"
     ]
    },
    {
     "name": "stderr",
     "output_type": "stream",
     "text": [
      "rtaudio: PortAudio module enabled ...\n",
      "\u001b[musing callback interface\n",
      "\u001b[mrtmidi: PortMIDI module enabled\n",
      "\u001b[m--Csound version 6.18 (double samples) Nov 24 2022\n",
      "[commit: a1580f9cdf331c35dceb486f4231871ce0b00266]\n",
      "\u001b[mlibsndfile-1.1.0\n",
      "\u001b[mgraphics suppressed, ascii substituted\n",
      "sr = 48000.0,\u001b[m kr = 1500.000,\u001b[m ksmps = 32\n",
      "\u001b[m0dBFS level = 1.0,\u001b[m A4 tuning = 440.0\n",
      "\u001b[morch now loaded\n",
      "\u001b[maudio buffered in 1024 sample-frame blocks\n",
      "\u001b[mwriting 4096-byte blks of shorts to  _temp_1.wav (WAV)\n",
      "SECTION 1:\n",
      "\u001b[mnew alloc for instr 1:\n",
      "\u001b[mB  0.000 ..  0.902 T  0.902 TT  0.902 M:  0.50000  0.50000\n",
      "Score finished in csoundPerformKsmps() with 2.\n",
      "inactive allocs returned to freespace\n",
      "end of score.\t\t   overall amps:\u001b[m  0.50000  0.50000\n",
      "\t   overall samples out of range:\u001b[m        0\u001b[m        0\u001b[m\n",
      "0 errors in performance\n",
      "\u001b[mElapsed time at end of performance: real: 0.002s, CPU: 0.002s\n",
      "\u001b[m2048 4096 sample blks of shorts written to  _temp_1.wav (WAV)\n"
     ]
    },
    {
     "name": "stdout",
     "output_type": "stream",
     "text": [
      "1: freq=428.5Hz, dur=0.90s (from training sample 1)\n"
     ]
    },
    {
     "name": "stderr",
     "output_type": "stream",
     "text": [
      "rtaudio: PortAudio module enabled ...\n",
      "\u001b[musing callback interface\n",
      "\u001b[mrtmidi: PortMIDI module enabled\n",
      "\u001b[m--Csound version 6.18 (double samples) Nov 24 2022\n",
      "[commit: a1580f9cdf331c35dceb486f4231871ce0b00266]\n",
      "\u001b[mlibsndfile-1.1.0\n",
      "\u001b[mgraphics suppressed, ascii substituted\n",
      "sr = 48000.0,\u001b[m kr = 1500.000,\u001b[m ksmps = 32\n",
      "\u001b[m0dBFS level = 1.0,\u001b[m A4 tuning = 440.0\n",
      "\u001b[morch now loaded\n",
      "\u001b[maudio buffered in 1024 sample-frame blocks\n",
      "\u001b[mwriting 4096-byte blks of shorts to  _temp_1.wav (WAV)\n",
      "SECTION 1:\n",
      "\u001b[mnew alloc for instr 1:\n",
      "\u001b[mB  0.000 ..  0.500 T  0.500 TT  0.500 M:  0.50000  0.50000\n",
      "Score finished in csoundPerformKsmps() with 2.\n",
      "inactive allocs returned to freespace\n",
      "end of score.\t\t   overall amps:\u001b[m  0.50000  0.50000\n",
      "\t   overall samples out of range:\u001b[m        0\u001b[m        0\u001b[m\n",
      "0 errors in performance\n",
      "\u001b[mElapsed time at end of performance: real: 0.002s, CPU: 0.002s\n",
      "\u001b[m2048 4096 sample blks of shorts written to  _temp_1.wav (WAV)\n"
     ]
    },
    {
     "name": "stdout",
     "output_type": "stream",
     "text": [
      "2: freq=894.2Hz, dur=0.50s (from training sample 2)\n"
     ]
    },
    {
     "name": "stderr",
     "output_type": "stream",
     "text": [
      "rtaudio: PortAudio module enabled ...\n",
      "\u001b[musing callback interface\n",
      "\u001b[mrtmidi: PortMIDI module enabled\n",
      "\u001b[m--Csound version 6.18 (double samples) Nov 24 2022\n",
      "[commit: a1580f9cdf331c35dceb486f4231871ce0b00266]\n",
      "\u001b[mlibsndfile-1.1.0\n",
      "\u001b[mgraphics suppressed, ascii substituted\n",
      "sr = 48000.0,\u001b[m kr = 1500.000,\u001b[m ksmps = 32\n",
      "\u001b[m0dBFS level = 1.0,\u001b[m A4 tuning = 440.0\n",
      "\u001b[morch now loaded\n",
      "\u001b[maudio buffered in 1024 sample-frame blocks\n",
      "\u001b[mwriting 4096-byte blks of shorts to  _temp_1.wav (WAV)\n",
      "SECTION 1:\n",
      "\u001b[mnew alloc for instr 1:\n",
      "\u001b[mB  0.000 ..  1.500 T  1.500 TT  1.500 M:  0.50000  0.50000\n",
      "Score finished in csoundPerformKsmps() with 2.\n",
      "inactive allocs returned to freespace\n",
      "end of score.\t\t   overall amps:\u001b[m  0.50000  0.50000\n",
      "\t   overall samples out of range:\u001b[m        0\u001b[m        0\u001b[m\n",
      "0 errors in performance\n",
      "\u001b[mElapsed time at end of performance: real: 0.004s, CPU: 0.004s\n",
      "\u001b[m2048 4096 sample blks of shorts written to  _temp_1.wav (WAV)\n"
     ]
    },
    {
     "name": "stdout",
     "output_type": "stream",
     "text": [
      "3: freq=316.0Hz, dur=1.50s (from training sample 3)\n"
     ]
    },
    {
     "name": "stderr",
     "output_type": "stream",
     "text": [
      "rtaudio: PortAudio module enabled ...\n",
      "\u001b[musing callback interface\n",
      "\u001b[mrtmidi: PortMIDI module enabled\n",
      "\u001b[m--Csound version 6.18 (double samples) Nov 24 2022\n",
      "[commit: a1580f9cdf331c35dceb486f4231871ce0b00266]\n",
      "\u001b[mlibsndfile-1.1.0\n",
      "\u001b[mgraphics suppressed, ascii substituted\n",
      "sr = 48000.0,\u001b[m kr = 1500.000,\u001b[m ksmps = 32\n",
      "\u001b[m0dBFS level = 1.0,\u001b[m A4 tuning = 440.0\n",
      "\u001b[morch now loaded\n",
      "\u001b[maudio buffered in 1024 sample-frame blocks\n",
      "\u001b[mwriting 4096-byte blks of shorts to  _temp_1.wav (WAV)\n",
      "SECTION 1:\n",
      "\u001b[mnew alloc for instr 1:\n",
      "\u001b[mB  0.000 ..  0.894 T  0.895 TT  0.895 M:  0.50000  0.50000\n",
      "Score finished in csoundPerformKsmps() with 2.\n",
      "inactive allocs returned to freespace\n",
      "end of score.\t\t   overall amps:\u001b[m  0.50000  0.50000\n",
      "\t   overall samples out of range:\u001b[m        0\u001b[m        0\u001b[m\n",
      "0 errors in performance\n",
      "\u001b[mElapsed time at end of performance: real: 0.002s, CPU: 0.002s\n",
      "\u001b[m2048 4096 sample blks of shorts written to  _temp_1.wav (WAV)\n"
     ]
    },
    {
     "name": "stdout",
     "output_type": "stream",
     "text": [
      "4: freq=540.4Hz, dur=0.89s (from training sample 4)\n"
     ]
    },
    {
     "name": "stderr",
     "output_type": "stream",
     "text": [
      "rtaudio: PortAudio module enabled ...\n",
      "\u001b[musing callback interface\n",
      "\u001b[mrtmidi: PortMIDI module enabled\n",
      "\u001b[m--Csound version 6.18 (double samples) Nov 24 2022\n",
      "[commit: a1580f9cdf331c35dceb486f4231871ce0b00266]\n",
      "\u001b[mlibsndfile-1.1.0\n",
      "\u001b[mgraphics suppressed, ascii substituted\n",
      "sr = 48000.0,\u001b[m kr = 1500.000,\u001b[m ksmps = 32\n",
      "\u001b[m0dBFS level = 1.0,\u001b[m A4 tuning = 440.0\n",
      "\u001b[morch now loaded\n",
      "\u001b[maudio buffered in 1024 sample-frame blocks\n",
      "\u001b[mwriting 4096-byte blks of shorts to  _temp_1.wav (WAV)\n",
      "SECTION 1:\n",
      "\u001b[mnew alloc for instr 1:\n",
      "\u001b[mB  0.000 ..  0.635 T  0.635 TT  0.635 M:  0.50000  0.50000\n",
      "Score finished in csoundPerformKsmps() with 2.\n",
      "inactive allocs returned to freespace\n",
      "end of score.\t\t   overall amps:\u001b[m  0.50000  0.50000\n",
      "\t   overall samples out of range:\u001b[m        0\u001b[m        0\u001b[m\n",
      "0 errors in performance\n",
      "\u001b[mElapsed time at end of performance: real: 0.002s, CPU: 0.002s\n",
      "\u001b[m2048 4096 sample blks of shorts written to  _temp_1.wav (WAV)\n"
     ]
    },
    {
     "name": "stdout",
     "output_type": "stream",
     "text": [
      "5: freq=246.9Hz, dur=0.64s (from training sample 5)\n"
     ]
    },
    {
     "name": "stderr",
     "output_type": "stream",
     "text": [
      "rtaudio: PortAudio module enabled ...\n",
      "\u001b[musing callback interface\n",
      "\u001b[mrtmidi: PortMIDI module enabled\n",
      "\u001b[m--Csound version 6.18 (double samples) Nov 24 2022\n",
      "[commit: a1580f9cdf331c35dceb486f4231871ce0b00266]\n",
      "\u001b[mlibsndfile-1.1.0\n",
      "\u001b[mgraphics suppressed, ascii substituted\n",
      "sr = 48000.0,\u001b[m kr = 1500.000,\u001b[m ksmps = 32\n",
      "\u001b[m0dBFS level = 1.0,\u001b[m A4 tuning = 440.0\n",
      "\u001b[morch now loaded\n",
      "\u001b[maudio buffered in 1024 sample-frame blocks\n",
      "\u001b[mwriting 4096-byte blks of shorts to  _temp_1.wav (WAV)\n",
      "SECTION 1:\n",
      "\u001b[mnew alloc for instr 1:\n",
      "\u001b[mB  0.000 ..  1.220 T  1.220 TT  1.220 M:  0.50000  0.50000\n",
      "Score finished in csoundPerformKsmps() with 2.\n",
      "inactive allocs returned to freespace\n",
      "end of score.\t\t   overall amps:\u001b[m  0.50000  0.50000\n",
      "\t   overall samples out of range:\u001b[m        0\u001b[m        0\u001b[m\n",
      "0 errors in performance\n",
      "\u001b[mElapsed time at end of performance: real: 0.003s, CPU: 0.003s\n",
      "\u001b[m2048 4096 sample blks of shorts written to  _temp_1.wav (WAV)\n"
     ]
    },
    {
     "name": "stdout",
     "output_type": "stream",
     "text": [
      "6: freq=305.7Hz, dur=1.22s (from training sample 6)\n"
     ]
    },
    {
     "name": "stderr",
     "output_type": "stream",
     "text": [
      "rtaudio: PortAudio module enabled ...\n",
      "\u001b[musing callback interface\n",
      "\u001b[mrtmidi: PortMIDI module enabled\n",
      "\u001b[m--Csound version 6.18 (double samples) Nov 24 2022\n",
      "[commit: a1580f9cdf331c35dceb486f4231871ce0b00266]\n",
      "\u001b[mlibsndfile-1.1.0\n",
      "\u001b[mgraphics suppressed, ascii substituted\n",
      "sr = 48000.0,\u001b[m kr = 1500.000,\u001b[m ksmps = 32\n",
      "\u001b[m0dBFS level = 1.0,\u001b[m A4 tuning = 440.0\n",
      "\u001b[morch now loaded\n",
      "\u001b[maudio buffered in 1024 sample-frame blocks\n",
      "\u001b[mwriting 4096-byte blks of shorts to  _temp_1.wav (WAV)\n",
      "SECTION 1:\n",
      "\u001b[mnew alloc for instr 1:\n",
      "\u001b[mB  0.000 ..  0.551 T  0.551 TT  0.551 M:  0.50000  0.50000\n",
      "Score finished in csoundPerformKsmps() with 2.\n",
      "inactive allocs returned to freespace\n",
      "end of score.\t\t   overall amps:\u001b[m  0.50000  0.50000\n",
      "\t   overall samples out of range:\u001b[m        0\u001b[m        0\u001b[m\n",
      "0 errors in performance\n",
      "\u001b[mElapsed time at end of performance: real: 0.002s, CPU: 0.002s\n",
      "\u001b[m2048 4096 sample blks of shorts written to  _temp_1.wav (WAV)\n"
     ]
    },
    {
     "name": "stdout",
     "output_type": "stream",
     "text": [
      "7: freq=368.6Hz, dur=0.55s (from training sample 7)\n"
     ]
    },
    {
     "name": "stderr",
     "output_type": "stream",
     "text": [
      "rtaudio: PortAudio module enabled ...\n",
      "\u001b[musing callback interface\n",
      "\u001b[mrtmidi: PortMIDI module enabled\n",
      "\u001b[m--Csound version 6.18 (double samples) Nov 24 2022\n",
      "[commit: a1580f9cdf331c35dceb486f4231871ce0b00266]\n",
      "\u001b[mlibsndfile-1.1.0\n",
      "\u001b[mgraphics suppressed, ascii substituted\n",
      "sr = 48000.0,\u001b[m kr = 1500.000,\u001b[m ksmps = 32\n",
      "\u001b[m0dBFS level = 1.0,\u001b[m A4 tuning = 440.0\n",
      "\u001b[morch now loaded\n",
      "\u001b[maudio buffered in 1024 sample-frame blocks\n",
      "\u001b[mwriting 4096-byte blks of shorts to  _temp_1.wav (WAV)\n",
      "SECTION 1:\n",
      "\u001b[mnew alloc for instr 1:\n",
      "\u001b[mB  0.000 ..  1.318 T  1.318 TT  1.318 M:  0.50000  0.50000\n",
      "Score finished in csoundPerformKsmps() with 2.\n",
      "inactive allocs returned to freespace\n",
      "end of score.\t\t   overall amps:\u001b[m  0.50000  0.50000\n",
      "\t   overall samples out of range:\u001b[m        0\u001b[m        0\u001b[m\n",
      "0 errors in performance\n",
      "\u001b[mElapsed time at end of performance: real: 0.003s, CPU: 0.003s\n",
      "\u001b[m2048 4096 sample blks of shorts written to  _temp_1.wav (WAV)\n"
     ]
    },
    {
     "name": "stdout",
     "output_type": "stream",
     "text": [
      "8: freq=382.2Hz, dur=1.32s (from training sample 8)\n",
      "9: freq=494.5Hz, dur=0.88s (from training sample 9)\n",
      "✓ Done! All files have DIFFERENT frequencies now!\n"
     ]
    },
    {
     "name": "stderr",
     "output_type": "stream",
     "text": [
      "rtaudio: PortAudio module enabled ...\n",
      "\u001b[musing callback interface\n",
      "\u001b[mrtmidi: PortMIDI module enabled\n",
      "\u001b[m--Csound version 6.18 (double samples) Nov 24 2022\n",
      "[commit: a1580f9cdf331c35dceb486f4231871ce0b00266]\n",
      "\u001b[mlibsndfile-1.1.0\n",
      "\u001b[mgraphics suppressed, ascii substituted\n",
      "sr = 48000.0,\u001b[m kr = 1500.000,\u001b[m ksmps = 32\n",
      "\u001b[m0dBFS level = 1.0,\u001b[m A4 tuning = 440.0\n",
      "\u001b[morch now loaded\n",
      "\u001b[maudio buffered in 1024 sample-frame blocks\n",
      "\u001b[mwriting 4096-byte blks of shorts to  _temp_1.wav (WAV)\n",
      "SECTION 1:\n",
      "\u001b[mnew alloc for instr 1:\n",
      "\u001b[mB  0.000 ..  0.877 T  0.877 TT  0.877 M:  0.50000  0.50000\n",
      "Score finished in csoundPerformKsmps() with 2.\n",
      "inactive allocs returned to freespace\n",
      "end of score.\t\t   overall amps:\u001b[m  0.50000  0.50000\n",
      "\t   overall samples out of range:\u001b[m        0\u001b[m        0\u001b[m\n",
      "0 errors in performance\n",
      "\u001b[mElapsed time at end of performance: real: 0.002s, CPU: 0.002s\n",
      "\u001b[m2048 4096 sample blks of shorts written to  _temp_1.wav (WAV)\n"
     ]
    }
   ],
   "source": [
    "from csound_module import Csound_instrument\n",
    "import os\n",
    "import numpy as np\n",
    "\n",
    "csound = Csound_instrument()\n",
    "os.makedirs(\"output\", exist_ok=True)\n",
    "\n",
    "\n",
    "\n",
    "for i in range(10):\n",
    "    idx = i % len(data.params_list)\n",
    "    params = data.params_list[idx]\n",
    "    \n",
    "    # Add small random variation\n",
    "    freq = params['freq'] + np.random.uniform(-20, 20)\n",
    "    dur = params['dur'] + np.random.uniform(-0.1, 0.1)\n",
    "    \n",
    "    freq = max(220, min(900, freq))  # Keep in range\n",
    "    dur = max(0.5, min(1.5, dur))\n",
    "    csound.csound_instrument_score(1, freq, dur, save_file=f\"output/ml_generated_{i}.wav\")\n",
    "    print(f\"{i}: freq={freq:.1f}Hz, dur={dur:.2f}s (from training sample {idx})\")\n"
   ]
  }
 ],
 "metadata": {
  "kernelspec": {
   "display_name": "Python 3",
   "language": "python",
   "name": "python3"
  },
  "language_info": {
   "codemirror_mode": {
    "name": "ipython",
    "version": 3
   },
   "file_extension": ".py",
   "mimetype": "text/x-python",
   "name": "python",
   "nbconvert_exporter": "python",
   "pygments_lexer": "ipython3",
   "version": "3.11.11"
  }
 },
 "nbformat": 4,
 "nbformat_minor": 5
}
